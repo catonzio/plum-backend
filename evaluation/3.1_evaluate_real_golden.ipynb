{
 "cells": [
  {
   "cell_type": "code",
   "execution_count": 1,
   "id": "6cb0a6dd",
   "metadata": {},
   "outputs": [],
   "source": [
    "from uuid import uuid4\n",
    "\n",
    "import pandas as pd\n",
    "from langchain.chat_models import init_chat_model\n",
    "\n",
    "from plum_chatbot.configs.settings import Settings\n",
    "from plum_chatbot.datasources.qdrant_datasource import QdrantDatasource\n",
    "from plum_chatbot.di_containers.datasources_containers import Container, container\n",
    "from plum_chatbot.schemas.schema import UserInput\n",
    "\n",
    "settings = Settings()"
   ]
  },
  {
   "cell_type": "code",
   "execution_count": 2,
   "id": "f1f56317",
   "metadata": {},
   "outputs": [],
   "source": [
    "dataset_name = \"FAQ dataset\""
   ]
  },
  {
   "cell_type": "code",
   "execution_count": 3,
   "id": "240dbab9",
   "metadata": {},
   "outputs": [],
   "source": [
    "judge_llm = init_chat_model(\n",
    "    \"llama3.2\",  # qwen3:8b\n",
    "    model_provider=\"ollama\",\n",
    "    base_url=\"host.docker.internal\",\n",
    "    temperature=0.5,\n",
    ")"
   ]
  },
  {
   "cell_type": "code",
   "execution_count": 4,
   "id": "b45b460b",
   "metadata": {},
   "outputs": [],
   "source": [
    "golden_set = pd.read_csv(\"data/golden_set.csv\")"
   ]
  },
  {
   "cell_type": "code",
   "execution_count": 5,
   "id": "21c1fb6c",
   "metadata": {},
   "outputs": [
    {
     "data": {
      "text/html": [
       "<div>\n",
       "<style scoped>\n",
       "    .dataframe tbody tr th:only-of-type {\n",
       "        vertical-align: middle;\n",
       "    }\n",
       "\n",
       "    .dataframe tbody tr th {\n",
       "        vertical-align: top;\n",
       "    }\n",
       "\n",
       "    .dataframe thead th {\n",
       "        text-align: right;\n",
       "    }\n",
       "</style>\n",
       "<table border=\"1\" class=\"dataframe\">\n",
       "  <thead>\n",
       "    <tr style=\"text-align: right;\">\n",
       "      <th></th>\n",
       "      <th>id</th>\n",
       "      <th>question</th>\n",
       "      <th>answer</th>\n",
       "    </tr>\n",
       "  </thead>\n",
       "  <tbody>\n",
       "    <tr>\n",
       "      <th>0</th>\n",
       "      <td>1</td>\n",
       "      <td>Posso conoscere l'esito delle email inviate?</td>\n",
       "      <td>Si certamente!. Per inviare le email massime a...</td>\n",
       "    </tr>\n",
       "    <tr>\n",
       "      <th>1</th>\n",
       "      <td>2</td>\n",
       "      <td>Come posso reinviare un'email ad un soggetto?</td>\n",
       "      <td>Premendo sul REPORT INVII e richiamando la spe...</td>\n",
       "    </tr>\n",
       "    <tr>\n",
       "      <th>2</th>\n",
       "      <td>3</td>\n",
       "      <td>Come posso vedere eventuali allegati all'email...</td>\n",
       "      <td>Premendo sul REPORT INVI  INVII e richiamando ...</td>\n",
       "    </tr>\n",
       "    <tr>\n",
       "      <th>3</th>\n",
       "      <td>4</td>\n",
       "      <td>Posso inserire la firma e il logo del mio studio?</td>\n",
       "      <td>Dal menù principale in altro l'utente deve pre...</td>\n",
       "    </tr>\n",
       "    <tr>\n",
       "      <th>4</th>\n",
       "      <td>5</td>\n",
       "      <td>Posso impostare più email e pec dello studio i...</td>\n",
       "      <td>Certamente si!. La piattaforma è progetta per ...</td>\n",
       "    </tr>\n",
       "    <tr>\n",
       "      <th>5</th>\n",
       "      <td>6</td>\n",
       "      <td>Dove configuro le email e le pec?</td>\n",
       "      <td>Nel  menù principale è presente la sezione CON...</td>\n",
       "    </tr>\n",
       "    <tr>\n",
       "      <th>6</th>\n",
       "      <td>7</td>\n",
       "      <td>Cosa sono i bollettini digitali e come acquist...</td>\n",
       "      <td>La procedura non ha costi di attivazione e qua...</td>\n",
       "    </tr>\n",
       "    <tr>\n",
       "      <th>7</th>\n",
       "      <td>8</td>\n",
       "      <td>Come posso impostare i parametri dell'avviso d...</td>\n",
       "      <td>Accedendo al menù Configurazionià Parametri av...</td>\n",
       "    </tr>\n",
       "    <tr>\n",
       "      <th>8</th>\n",
       "      <td>9</td>\n",
       "      <td>Come posso inserire il testo dell'email per l...</td>\n",
       "      <td>Accedendo al menù Configurazionià Testi person...</td>\n",
       "    </tr>\n",
       "    <tr>\n",
       "      <th>9</th>\n",
       "      <td>10</td>\n",
       "      <td>Cos'è l'email evoluta?</td>\n",
       "      <td>L'email evoluta rappresenta un nuovo strumento...</td>\n",
       "    </tr>\n",
       "  </tbody>\n",
       "</table>\n",
       "</div>"
      ],
      "text/plain": [
       "   id                                           question  \\\n",
       "0   1       Posso conoscere l'esito delle email inviate?   \n",
       "1   2      Come posso reinviare un'email ad un soggetto?   \n",
       "2   3  Come posso vedere eventuali allegati all'email...   \n",
       "3   4  Posso inserire la firma e il logo del mio studio?   \n",
       "4   5  Posso impostare più email e pec dello studio i...   \n",
       "5   6                  Dove configuro le email e le pec?   \n",
       "6   7  Cosa sono i bollettini digitali e come acquist...   \n",
       "7   8  Come posso impostare i parametri dell'avviso d...   \n",
       "8   9   Come posso inserire il testo dell'email per l...   \n",
       "9  10                             Cos'è l'email evoluta?   \n",
       "\n",
       "                                              answer  \n",
       "0  Si certamente!. Per inviare le email massime a...  \n",
       "1  Premendo sul REPORT INVII e richiamando la spe...  \n",
       "2  Premendo sul REPORT INVI  INVII e richiamando ...  \n",
       "3  Dal menù principale in altro l'utente deve pre...  \n",
       "4  Certamente si!. La piattaforma è progetta per ...  \n",
       "5  Nel  menù principale è presente la sezione CON...  \n",
       "6  La procedura non ha costi di attivazione e qua...  \n",
       "7  Accedendo al menù Configurazionià Parametri av...  \n",
       "8  Accedendo al menù Configurazionià Testi person...  \n",
       "9  L'email evoluta rappresenta un nuovo strumento...  "
      ]
     },
     "execution_count": 5,
     "metadata": {},
     "output_type": "execute_result"
    }
   ],
   "source": [
    "golden_set"
   ]
  },
  {
   "cell_type": "code",
   "execution_count": 6,
   "id": "91103c90",
   "metadata": {},
   "outputs": [
    {
     "name": "stderr",
     "output_type": "stream",
     "text": [
      "/plum_chatbot/src/plum_chatbot/datasources/qdrant_datasource.py:39: UserWarning: Api key is used with an insecure connection.\n",
      "  self.client = QdrantClient(\n"
     ]
    }
   ],
   "source": [
    "container.init_resources()\n",
    "for k, v in Container.providers.items():\n",
    "    provider = v()\n",
    "    if isinstance(provider, QdrantDatasource):\n",
    "        provider.setup()"
   ]
  },
  {
   "cell_type": "code",
   "execution_count": 12,
   "id": "f3735895",
   "metadata": {},
   "outputs": [],
   "source": [
    "from langsmith import Client\n",
    "\n",
    "client = Client(api_key=settings.LANGSMITH_API_KEY)\n",
    "\n",
    "# Programmatically create a dataset in LangSmith\n",
    "# For other dataset creation methods, see:\n",
    "# https://docs.smith.langchain.com/evaluation/how_to_guides/manage_datasets_programmatically\n",
    "# https://docs.smith.langchain.com/evaluation/how_to_guides/manage_datasets_in_application\n",
    "dataset = client.create_dataset(\n",
    "    dataset_name=dataset_name,\n",
    "    description=\"A sample dataset generated from LLM (llama 3.2).\",\n",
    ")\n",
    "\n",
    "# Create examples\n",
    "examples = [\n",
    "    {\n",
    "        \"inputs\": {\"question\": row[\"question\"]},\n",
    "        \"outputs\": {\"answer\": row[\"answer\"]},\n",
    "        \"metadata\": {\"id\": row[\"id\"]},\n",
    "    }\n",
    "    for _, row in golden_set.iterrows()\n",
    "]\n",
    "\n",
    "# Add examples to the dataset\n",
    "client.create_examples(dataset_id=dataset.id, examples=examples);"
   ]
  },
  {
   "cell_type": "code",
   "execution_count": 13,
   "id": "7288968e",
   "metadata": {},
   "outputs": [],
   "source": [
    "async def correct(outputs: dict, reference_outputs: dict) -> bool:\n",
    "    instructions = (\n",
    "        \"Given an actual answer and an expected answer, determine whether\"\n",
    "        \" the actual answer contains all of the information in the\"\n",
    "        \" expected answer. Respond with 'CORRECT' if the actual answer\"\n",
    "        \" does contain all of the expected information and 'INCORRECT'\"\n",
    "        \" otherwise. Do not include anything else in your response.\"\n",
    "    )\n",
    "    # Our graph outputs a State dictionary, which in this case means\n",
    "    # we'll have a 'messages' key and the final message should\n",
    "    # be our actual answer.\n",
    "    actual_answer = outputs[\"messages\"][-1].content\n",
    "    expected_answer = reference_outputs[\"answer\"]\n",
    "    user_msg = f\"ACTUAL ANSWER: {actual_answer}\\n\\nEXPECTED ANSWER: {expected_answer}\"\n",
    "    response = await judge_llm.ainvoke(\n",
    "        [\n",
    "            {\"role\": \"system\", \"content\": instructions},\n",
    "            {\"role\": \"user\", \"content\": user_msg},\n",
    "        ]\n",
    "    )\n",
    "    return response.content.upper() == \"CORRECT\""
   ]
  },
  {
   "cell_type": "code",
   "execution_count": 14,
   "id": "0c7ba3e1",
   "metadata": {},
   "outputs": [],
   "source": [
    "from plum_chatbot.agents.agents import _handle_input\n",
    "from plum_chatbot.agents.my_agent import RagAgent\n",
    "\n",
    "\n",
    "def example_to_state(inputs: dict) -> dict:\n",
    "    return {\"messages\": [{\"role\": \"user\", \"content\": inputs[\"question\"]}]}\n",
    "\n",
    "\n",
    "async def to_agent_input(inputs: dict) -> dict:\n",
    "    kwargs, run_id, thread_id = await _handle_input(\n",
    "        UserInput(message=inputs[\"question\"], thread_id=str(uuid4())), agent.graph\n",
    "    )\n",
    "    return kwargs\n",
    "\n",
    "\n",
    "agent = RagAgent()\n",
    "\n",
    "\n",
    "# We use LCEL declarative syntax here.\n",
    "# Remember that langgraph graphs are also langchain runnables.\n",
    "# Compose the target as a function that unpacks the dict returned by to_agent_input\n",
    "async def target(inputs):\n",
    "    kwargs = await to_agent_input(inputs)\n",
    "    return await agent.graph.ainvoke(**kwargs)"
   ]
  },
  {
   "cell_type": "code",
   "execution_count": 15,
   "id": "9e541d45",
   "metadata": {},
   "outputs": [
    {
     "name": "stdout",
     "output_type": "stream",
     "text": [
      "View the evaluation results for experiment: 'llama3.2-2f41ef77' at:\n",
      "https://smith.langchain.com/o/7c3428ad-07e0-5237-b0f4-4dd618c80caa/datasets/396b421f-9197-4672-9f34-487dee0d15a3/compare?selectedSessions=f5cbc60d-e1a0-4e69-8495-e15da635cf4c\n",
      "\n",
      "\n"
     ]
    },
    {
     "data": {
      "application/vnd.jupyter.widget-view+json": {
       "model_id": "2e8c23e5326e4fde8c0d2033fa664c42",
       "version_major": 2,
       "version_minor": 0
      },
      "text/plain": [
       "0it [00:00, ?it/s]"
      ]
     },
     "metadata": {},
     "output_type": "display_data"
    }
   ],
   "source": [
    "from langsmith import aevaluate\n",
    "\n",
    "experiment_results = await aevaluate(\n",
    "    target,\n",
    "    data=dataset_name,\n",
    "    evaluators=[correct],\n",
    "    max_concurrency=4,  # optional\n",
    "    experiment_prefix=\"llama3.2\",  # optional\n",
    ")"
   ]
  }
 ],
 "metadata": {
  "kernelspec": {
   "display_name": ".venv",
   "language": "python",
   "name": "python3"
  },
  "language_info": {
   "codemirror_mode": {
    "name": "ipython",
    "version": 3
   },
   "file_extension": ".py",
   "mimetype": "text/x-python",
   "name": "python",
   "nbconvert_exporter": "python",
   "pygments_lexer": "ipython3",
   "version": "3.13.5"
  }
 },
 "nbformat": 4,
 "nbformat_minor": 5
}
