{
 "cells": [
  {
   "cell_type": "code",
   "execution_count": null,
   "id": "0e75ac34",
   "metadata": {},
   "outputs": [],
   "source": [
    "import logging\n",
    "from uuid import uuid4\n",
    "\n",
    "import pandas as pd\n",
    "from tqdm import tqdm\n",
    "\n",
    "from plum_chatbot.agents.agents import invoke_chatbot\n",
    "from plum_chatbot.datasources.qdrant_datasource import QdrantDatasource\n",
    "from plum_chatbot.di_containers.datasources_containers import Container, container\n",
    "from plum_chatbot.schemas.schema import ChatMessage, UserInput"
   ]
  },
  {
   "cell_type": "code",
   "execution_count": null,
   "id": "f5d1947d",
   "metadata": {},
   "outputs": [],
   "source": [
    "logger = logging.getLogger(__name__)\n",
    "agent_id = \"rag\""
   ]
  },
  {
   "cell_type": "code",
   "execution_count": null,
   "id": "e11528bf",
   "metadata": {},
   "outputs": [
    {
     "name": "stderr",
     "output_type": "stream",
     "text": [
      "/plum_chatbot/src/plum_chatbot/datasources/qdrant_datasource.py:40: UserWarning: Api key is used with an insecure connection.\n",
      "  self.client = QdrantClient(\n"
     ]
    }
   ],
   "source": [
    "container.init_resources()\n",
    "for k, v in Container.providers.items():\n",
    "    provider = v()\n",
    "    if isinstance(provider, QdrantDatasource):\n",
    "        provider.setup()\n",
    "    logger.info(f\"Dependency {k} initialized with {v}\")"
   ]
  },
  {
   "cell_type": "code",
   "execution_count": 3,
   "id": "3e5ff4f7",
   "metadata": {},
   "outputs": [],
   "source": [
    "golden_set = pd.read_csv(\"data/golden_set.csv\")"
   ]
  },
  {
   "cell_type": "code",
   "execution_count": null,
   "id": "2c48ed57",
   "metadata": {},
   "outputs": [
    {
     "name": "stderr",
     "output_type": "stream",
     "text": [
      "100%|██████████| 10/10 [00:40<00:00,  4.01s/it]\n"
     ]
    }
   ],
   "source": [
    "answers = []\n",
    "\n",
    "for q in tqdm(golden_set[\"question\"]):\n",
    "    # print(q)\n",
    "    user_input: UserInput = UserInput(message=q, thread_id=str(uuid4()))\n",
    "    answer: ChatMessage = await invoke_chatbot(user_input, agent_id)\n",
    "    answers.append(answer.content)\n",
    "    # print(answer.content)\n",
    "    # print()\n",
    "    # print()"
   ]
  },
  {
   "cell_type": "code",
   "execution_count": null,
   "id": "acf733a6",
   "metadata": {},
   "outputs": [],
   "source": [
    "golden_set[\"answers\"] = answers\n",
    "golden_set.to_csv(\"data/golden_set_with_answers.csv\", index=False)"
   ]
  },
  {
   "cell_type": "code",
   "execution_count": null,
   "id": "e1b96ad5",
   "metadata": {},
   "outputs": [],
   "source": []
  }
 ],
 "metadata": {
  "kernelspec": {
   "display_name": ".venv",
   "language": "python",
   "name": "python3"
  },
  "language_info": {
   "codemirror_mode": {
    "name": "ipython",
    "version": 3
   },
   "file_extension": ".py",
   "mimetype": "text/x-python",
   "name": "python",
   "nbconvert_exporter": "python",
   "pygments_lexer": "ipython3",
   "version": "3.13.5"
  }
 },
 "nbformat": 4,
 "nbformat_minor": 5
}
