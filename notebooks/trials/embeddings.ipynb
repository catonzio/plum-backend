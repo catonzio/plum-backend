{
 "cells": [
  {
   "cell_type": "code",
   "execution_count": 1,
   "id": "b23b5f5c",
   "metadata": {},
   "outputs": [],
   "source": [
    "from uuid import uuid4\n",
    "\n",
    "import ollama\n",
    "from langchain.text_splitter import RecursiveCharacterTextSplitter\n",
    "from langchain_community.document_loaders import PyPDFLoader\n",
    "from qdrant_client import QdrantClient, models\n",
    "\n",
    "from plum_chatbot.configs.folders import PDF_DIR\n",
    "from plum_chatbot.configs.settings import Settings"
   ]
  },
  {
   "cell_type": "code",
   "execution_count": null,
   "id": "32f564e7",
   "metadata": {},
   "outputs": [],
   "source": [
    "pages = []\n",
    "files = list(filter(lambda x: \"merged\" not in str(x), PDF_DIR.glob(\"*.pdf\")))\n",
    "\n",
    "for document in files:\n",
    "    loader = PyPDFLoader(PDF_DIR / document)\n",
    "    content = \"\"\n",
    "    async for page in loader.alazy_load():\n",
    "        # pages.append(page)\n",
    "        content += page.page_content + \"\\n\"\n",
    "    pages.append(content)\n",
    "pages.sort(key=lambda x: int(x.split(\".\")[0]))"
   ]
  },
  {
   "cell_type": "code",
   "execution_count": null,
   "id": "277a26a8",
   "metadata": {},
   "outputs": [],
   "source": [
    "text_splitter = RecursiveCharacterTextSplitter(\n",
    "    chunk_size=500,\n",
    "    chunk_overlap=50,\n",
    "    # separators=[\"\\n\\n\", \"\\n\", \".\", \" \"],\n",
    "    separators=[\"\\n\", \".\"],\n",
    ")"
   ]
  },
  {
   "cell_type": "code",
   "execution_count": null,
   "id": "a04836e6",
   "metadata": {},
   "outputs": [],
   "source": [
    "all_chunks = []\n",
    "for document in files:\n",
    "    loader = PyPDFLoader(document)\n",
    "    docs = loader.load()\n",
    "    splits = text_splitter.split_documents(docs)  # Proper usage\n",
    "    for i, split in enumerate(splits):\n",
    "        all_chunks.append(\n",
    "            {\n",
    "                \"id\": str(uuid4()),\n",
    "                \"text\": split.page_content,\n",
    "                \"metadata\": {\n",
    "                    \"source\": document.name,\n",
    "                    \"chunk_index\": i,\n",
    "                    \"title\": document.name.replace(\".pdf\", \"\"),\n",
    "                },\n",
    "            }\n",
    "        )"
   ]
  },
  {
   "cell_type": "code",
   "execution_count": null,
   "id": "c12ab6a3",
   "metadata": {},
   "outputs": [],
   "source": [
    "settings = Settings()\n",
    "\n",
    "COLLECTION_NAME = \"FAQ2\"\n",
    "\n",
    "# Initialize Ollama client\n",
    "oclient = ollama.Client(host=\"host.docker.internal\")\n",
    "\n",
    "# Initialize Qdrant client\n",
    "qclient = QdrantClient(url=settings.QDRANT_URL, api_key=settings.QDRANT_API_KEY)"
   ]
  },
  {
   "cell_type": "code",
   "execution_count": null,
   "id": "3bd340d8",
   "metadata": {},
   "outputs": [],
   "source": [
    "# Text to embed\n",
    "\n",
    "# Generate embeddings\n",
    "# page_contents = [document.page_content for document in pages]\n",
    "# responses = [oclient.embeddings(model=\"llama3.2\", prompt=content) for content in pages]\n",
    "responses = [\n",
    "    oclient.embeddings(model=\"llama3.2\", prompt=content[\"text\"])\n",
    "    for content in all_chunks\n",
    "]\n",
    "embeddings = [response[\"embedding\"] for response in responses]\n",
    "\n",
    "# Create a collection if it doesn't already exist\n",
    "if not qclient.collection_exists(COLLECTION_NAME):\n",
    "    qclient.create_collection(\n",
    "        collection_name=COLLECTION_NAME,\n",
    "        vectors_config=models.VectorParams(\n",
    "            size=len(embeddings[0]), distance=models.Distance.COSINE\n",
    "        ),\n",
    "    )"
   ]
  },
  {
   "cell_type": "code",
   "execution_count": null,
   "id": "cdb17c89",
   "metadata": {},
   "outputs": [],
   "source": [
    "# Upload the vectors to the collection along with the original text as payload\n",
    "\n",
    "qclient.upsert(\n",
    "    collection_name=COLLECTION_NAME,\n",
    "    points=[\n",
    "        models.PointStruct(id=i, vector=embedding, payload=chunk)\n",
    "        for i, (chunk, embedding) in enumerate(zip(all_chunks, embeddings))\n",
    "        if embedding\n",
    "    ],\n",
    ")"
   ]
  }
 ],
 "metadata": {
  "kernelspec": {
   "display_name": "plum-chatbot",
   "language": "python",
   "name": "python3"
  },
  "language_info": {
   "codemirror_mode": {
    "name": "ipython",
    "version": 3
   },
   "file_extension": ".py",
   "mimetype": "text/x-python",
   "name": "python",
   "nbconvert_exporter": "python",
   "pygments_lexer": "ipython3",
   "version": "3.13.5"
  }
 },
 "nbformat": 4,
 "nbformat_minor": 5
}
