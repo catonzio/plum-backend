{
 "cells": [
  {
   "cell_type": "code",
   "execution_count": 1,
   "id": "ee296715",
   "metadata": {},
   "outputs": [],
   "source": [
    "from langchain_community.document_loaders import PyPDFLoader\n",
    "from plum_chatbot.configs.folders import PDF_DIR"
   ]
  },
  {
   "cell_type": "code",
   "execution_count": 2,
   "id": "59dedade",
   "metadata": {},
   "outputs": [
    {
     "name": "stdout",
     "output_type": "stream",
     "text": [
      "ImageFile(name=Im13.png, data: 47.3 kB)\n",
      "ImageFile(name=Im4.png, data: 53.2 kB)\n",
      "ImageFile(name=Im5.png, data: 585 Byte)\n",
      "ImageFile(name=Im6.png, data: 20.8 kB)\n"
     ]
    }
   ],
   "source": [
    "from pypdf import PdfReader\n",
    "\n",
    "reader = PdfReader(PDF_DIR / \"1. COME CONFIGURARE L'EMAIL E LA PEC.pdf\")\n",
    "\n",
    "page = reader.pages[0]\n",
    "\n",
    "for count, image_file_object in enumerate(page.images):\n",
    "    print(image_file_object)"
   ]
  },
  {
   "cell_type": "code",
   "execution_count": 3,
   "id": "79d2bff8",
   "metadata": {},
   "outputs": [],
   "source": [
    "pages = []\n",
    "files = list(filter(lambda x: 'merged' not in str(x), PDF_DIR.glob(\"*.pdf\")))\n",
    "\n",
    "for document in files:\n",
    "    loader = PyPDFLoader(PDF_DIR / document)\n",
    "    content = \"\"\n",
    "    async for page in loader.alazy_load():\n",
    "        # pages.append(page)\n",
    "        content += page.page_content + \"\\n\"\n",
    "    pages.append(content)"
   ]
  },
  {
   "cell_type": "code",
   "execution_count": 4,
   "id": "87efdb95",
   "metadata": {},
   "outputs": [
    {
     "name": "stderr",
     "output_type": "stream",
     "text": [
      "/tmp/ipykernel_35690/877854893.py:14: UserWarning: Api key is used with an insecure connection.\n",
      "  qclient = QdrantClient(url=settings.QDRANT_URL, api_key=settings.QDRANT_API_KEY)\n"
     ]
    }
   ],
   "source": [
    "from qdrant_client import QdrantClient, models\n",
    "import ollama\n",
    "\n",
    "from plum_chatbot.configs.settings import Settings\n",
    "\n",
    "settings = Settings()\n",
    "\n",
    "COLLECTION_NAME = \"FAQ\"\n",
    "\n",
    "# Initialize Ollama client\n",
    "oclient = ollama.Client(host=\"host.docker.internal\")\n",
    "\n",
    "# Initialize Qdrant client\n",
    "qclient = QdrantClient(url=settings.QDRANT_URL, api_key=settings.QDRANT_API_KEY)\n"
   ]
  },
  {
   "cell_type": "code",
   "execution_count": 5,
   "id": "a26322ee",
   "metadata": {},
   "outputs": [],
   "source": [
    "# Text to embed\n",
    "\n",
    "# Generate embeddings\n",
    "# page_contents = [document.page_content for document in pages]\n",
    "responses = [oclient.embeddings(model=\"llama3.2\", prompt=content) for content in pages]\n",
    "embeddings = [response[\"embedding\"] for response in responses]\n",
    "\n",
    "# Create a collection if it doesn't already exist\n",
    "if not qclient.collection_exists(COLLECTION_NAME):\n",
    "    qclient.create_collection(\n",
    "        collection_name=COLLECTION_NAME,\n",
    "        vectors_config=models.VectorParams(\n",
    "            size=len(embeddings[0]), distance=models.Distance.COSINE\n",
    "        ),\n",
    "    )"
   ]
  },
  {
   "cell_type": "code",
   "execution_count": 6,
   "id": "46a27b85",
   "metadata": {},
   "outputs": [
    {
     "data": {
      "text/plain": [
       "UpdateResult(operation_id=1, status=<UpdateStatus.COMPLETED: 'completed'>)"
      ]
     },
     "execution_count": 6,
     "metadata": {},
     "output_type": "execute_result"
    }
   ],
   "source": [
    "# Upload the vectors to the collection along with the original text as payload\n",
    "\n",
    "qclient.upsert(\n",
    "    collection_name=COLLECTION_NAME,\n",
    "    points=[models.PointStruct(id=i, vector=embedding, payload={\"page_content\": text}) for i, (text, embedding) in enumerate(zip(pages, embeddings)) if embedding],\n",
    ")"
   ]
  }
 ],
 "metadata": {
  "kernelspec": {
   "display_name": ".venv",
   "language": "python",
   "name": "python3"
  },
  "language_info": {
   "codemirror_mode": {
    "name": "ipython",
    "version": 3
   },
   "file_extension": ".py",
   "mimetype": "text/x-python",
   "name": "python",
   "nbconvert_exporter": "python",
   "pygments_lexer": "ipython3",
   "version": "3.13.3"
  }
 },
 "nbformat": 4,
 "nbformat_minor": 5
}
