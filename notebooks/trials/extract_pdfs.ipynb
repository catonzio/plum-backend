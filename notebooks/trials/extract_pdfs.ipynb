{
 "cells": [
  {
   "cell_type": "code",
   "execution_count": null,
   "id": "ee296715",
   "metadata": {},
   "outputs": [],
   "source": [
    "import ollama\n",
    "from langchain_community.document_loaders import PyPDFLoader\n",
    "from qdrant_client import QdrantClient, models\n",
    "\n",
    "from plum_chatbot.configs.folders import PDF_DIR\n",
    "from plum_chatbot.configs.settings import Settings"
   ]
  },
  {
   "cell_type": "code",
   "execution_count": null,
   "id": "79d2bff8",
   "metadata": {},
   "outputs": [],
   "source": [
    "pages = []\n",
    "files = list(filter(lambda x: \"merged\" not in str(x), PDF_DIR.glob(\"*.pdf\")))\n",
    "\n",
    "for document in files:\n",
    "    loader = PyPDFLoader(PDF_DIR / document)\n",
    "    content = \"\"\n",
    "    async for page in loader.alazy_load():\n",
    "        # pages.append(page)\n",
    "        content += page.page_content + \"\\n\"\n",
    "    pages.append(content)"
   ]
  },
  {
   "cell_type": "code",
   "execution_count": null,
   "id": "87efdb95",
   "metadata": {},
   "outputs": [],
   "source": [
    "settings = Settings()\n",
    "\n",
    "COLLECTION_NAME = \"FAQ2\"\n",
    "\n",
    "# Initialize Ollama client\n",
    "oclient = ollama.Client(host=\"host.docker.internal\")\n",
    "\n",
    "# Initialize Qdrant client\n",
    "qclient = QdrantClient(url=settings.QDRANT_URL, api_key=settings.QDRANT_API_KEY)"
   ]
  },
  {
   "cell_type": "code",
   "execution_count": null,
   "id": "a26322ee",
   "metadata": {},
   "outputs": [],
   "source": [
    "# Text to embed\n",
    "\n",
    "# Generate embeddings\n",
    "# page_contents = [document.page_content for document in pages]\n",
    "responses = [oclient.embeddings(model=\"llama3.2\", prompt=content) for content in pages]\n",
    "embeddings = [response[\"embedding\"] for response in responses]\n",
    "\n",
    "# Create a collection if it doesn't already exist\n",
    "if not qclient.collection_exists(COLLECTION_NAME):\n",
    "    qclient.create_collection(\n",
    "        collection_name=COLLECTION_NAME,\n",
    "        vectors_config=models.VectorParams(\n",
    "            size=len(embeddings[0]), distance=models.Distance.COSINE\n",
    "        ),\n",
    "    )"
   ]
  },
  {
   "cell_type": "code",
   "execution_count": null,
   "id": "46a27b85",
   "metadata": {},
   "outputs": [],
   "source": [
    "# Upload the vectors to the collection along with the original text as payload\n",
    "\n",
    "qclient.upsert(\n",
    "    collection_name=COLLECTION_NAME,\n",
    "    points=[\n",
    "        models.PointStruct(id=i, vector=embedding, payload={\"page_content\": text})\n",
    "        for i, (text, embedding) in enumerate(zip(pages, embeddings))\n",
    "        if embedding\n",
    "    ],\n",
    ")"
   ]
  }
 ],
 "metadata": {
  "kernelspec": {
   "display_name": ".venv",
   "language": "python",
   "name": "python3"
  },
  "language_info": {
   "codemirror_mode": {
    "name": "ipython",
    "version": 3
   },
   "file_extension": ".py",
   "mimetype": "text/x-python",
   "name": "python",
   "nbconvert_exporter": "python",
   "pygments_lexer": "ipython3",
   "version": "3.13.3"
  }
 },
 "nbformat": 4,
 "nbformat_minor": 5
}
