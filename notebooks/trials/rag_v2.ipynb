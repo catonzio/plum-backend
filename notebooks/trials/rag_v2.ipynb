{
 "cells": [
  {
   "cell_type": "code",
   "execution_count": 1,
   "id": "6ad3f565",
   "metadata": {},
   "outputs": [],
   "source": [
    "from langchain_ollama import OllamaEmbeddings\n",
    "\n",
    "embeddings = OllamaEmbeddings(model=\"llama3.2\", base_url=\"host.docker.internal\")"
   ]
  },
  {
   "cell_type": "code",
   "execution_count": 2,
   "id": "cfe8ff5d",
   "metadata": {},
   "outputs": [
    {
     "name": "stderr",
     "output_type": "stream",
     "text": [
      "/tmp/ipykernel_49044/340393869.py:8: UserWarning: Api key is used with an insecure connection.\n",
      "  client = QdrantClient(url=settings.QDRANT_URL, api_key=settings.QDRANT_API_KEY)\n"
     ]
    }
   ],
   "source": [
    "from langchain_qdrant import QdrantVectorStore\n",
    "from qdrant_client import QdrantClient\n",
    "\n",
    "from plum_chatbot.configs.settings import Settings\n",
    "\n",
    "settings = Settings()\n",
    "\n",
    "client = QdrantClient(url=settings.QDRANT_URL, api_key=settings.QDRANT_API_KEY)\n",
    "\n",
    "vector_store = QdrantVectorStore(\n",
    "    client=client,\n",
    "    collection_name=\"FAQ\",\n",
    "    embedding=embeddings,\n",
    ")"
   ]
  },
  {
   "cell_type": "code",
   "execution_count": 17,
   "id": "d69d6b52",
   "metadata": {},
   "outputs": [],
   "source": [
    "from langchain.tools.retriever import create_retriever_tool\n",
    "\n",
    "retriever_tool = create_retriever_tool(\n",
    "    vector_store.as_retriever(search_type=\"mmr\"),\n",
    "    \"retrieve_faq\",\n",
    "    \"Search and return information about FAQs of an ERP system.\",\n",
    ")"
   ]
  },
  {
   "cell_type": "code",
   "execution_count": 18,
   "id": "74fb3e92",
   "metadata": {},
   "outputs": [
    {
     "data": {
      "text/plain": [
       "'2. COME MODIFICA I DATI DEL PROFILO\\nDalla pagina iniziale premere il pulsante Profilo\\nLa procedura visualizza quindi la finestra nella quale l’amministratore può inserire\\ne/o modificare i propri dati\\n E’ importante terminare l’operazione di inserimento/modifica premendo il pulsante\\nsalva.\\n\\n\\n1. COME CONFIGUARE LE EMAIL E LA PEC\\nAll’interno del portale è possibile configurare tutti gli indirizzi email e Pec dello\\nStudio  e  decidere,  a  seconda  delle  esigenze,  da  quale  indirizzo  inviare  la\\ncorrispondenza.  \\nDal menu principale cliccare su Configurazioni \\uf0e0 Parametri Email \\nPremere ora il simbolo \\n  per inserire i parametri dell’email \\nCompilare i campi della finestra :\\n- Descrizione  (inserire  il  riferimento  dell’email,  es:  Mario  oppure  Solleciti\\noppure amministrazione, ecc.)\\n- Tipo  (inserire per le email ‘ORDINARIA’ e per la pec ‘PEC’)\\n- Indirizzo (riportare  l’indirizzo  dell’email  o  della  pec,  es:\\nammistrazionerossi@gmail.com oppure info@studioverdi.it )\\n- Host (selezionare dall’elenco il provider di posta elettronica. Se non presente\\nnella lista contattare l’assistenza PLUM).\\n- Username (generalmente l’indirizzo email già inserito nel campo ‘Indirizzo’).\\n- Password (inserire la password delle propria email o pec).\\n- Mail inoltro per conoscenza  (è possibile inserire un indirizzo a cui inoltrare  la\\ncopia inviata ai destinatari). Tale campo è facoltativo e deve essere compilato\\nsolo  quando  viene  inserita  la  spunta  del  campo  “su  servizio  Turbo  SMTP\\ndesidero ricevere la copia email per conoscenza”.\\n- Su  questo  account  intendo  utilizzare  il  servizio  turboSMTP (impostare  la\\nspunta quando si vuole utilizzare il servizio TurboSMTP in alternativa all’email\\npropria).  E’ importante sapere che i provider non garantiscono la consegna\\nmassiva delle email. Il servizio TurboSMTP invece garantisce una percentuale\\ndi consegna superiore al 99,7%  delle email inviate, oltre a fornire dettagli su\\ndata ed ora di invio o sugli esiti negativi. \\n- Su servizio turboSMTP desidero ricevere copia email per conoscenza  Il campo\\ndeve essere attivato per ricevere le copie delle email su un altro indirizzo che\\ndeve essere inserito nel campo ‘Mail inoltro per conoscenza’\\n\\n\\n7. COME IMPOSTARE I DATI PER LA SPEDIZIONE\\nLa piattaforma PLUM consente di generare e stampare documenti di qualsiasi\\ntipo (avvisi, mav, bollettini freccia, pagoPa, estratti conto, solleciti, ecc.) e di inviarli\\nin  modalità  differenti  (email,  pec,  posta  ordinaria,  raccomandata,  ecc.).  I  dati\\nanagrafici e contabili vengono trasmessi dal portale “Lemon” attraverso il pulsante\\nPLUM situato all’interno delle diverse finestre (avvisi, bolletini, mav, solleciti, ecc.). \\nL’utente quando accede all’interno di PLUM si trova nella pagina SPEDIZIONI\\nnella quale sono visibili i destinatari con i documenti allegati trasmessi da Lemon \\nLa bolla contiene  l’intero  elenco  dei  destinatari  con  i  documenti di pagamento.\\nPremendo sul simbolo della cartella  \\n  è possibile visualizzare il contenuto della\\nbolla. \\nLa pagina n. 1 di 3 visualizza il campo CONTENUTO  che deve essere compilato per\\nconoscere  dall’esterno  il  contento  della  spedizione  e  per  enza  e  per  rricercare\\nconrappresenta il contenuto \\n L’utente trova preimpostata la tipologia del documento \\n spedizioni sono indicate con\\nL’utente deve quindi compilare i campi e selezionare il mittente predefinito situato\\nnella parte inferiore della finestra. \\nE’ importante sapere che in fase di invio della corrispondenza i dati del mittente\\nverranno impostati con quelli del mittente predefinito tuttavia potranno comunque\\nessere variati prima  dell’invio della spedizione.\\n\\n\\n3. COME INSERIRE LE COORDINATE DELLE ETICHETTE\\nLa piattaforma prevede la possibilità di stampare le etichette buste con i dati\\ndel mittente o  del destinatario. Prima di procedere alla stampa è possibile inserire\\nle coordinate delle etichette sono i diversi formati:  \\n- 1 Pista  (tipo Dymo)\\n- 2 Pista \\n- 3 Pista \\nLe piste rappresentano il numero di etichette affiancate all’altra, quindi se si utilizza\\nla  Dymo  si  deve  indicare  1  pista.  L’inserimento  delle  coordinate  può  essere\\neffettuato richiamando la finestra dal menu Configurazioni \\uf0e0 Parametri Etichette  \\nLa  procedura  visualizza  quindi  la  finestra  nella  quale  è  possibile  inserire  le\\ncoordinate.  E’  importante  premere  sul  simbolo  del  \\n  per  memorizzare  le\\ncoordinate.\\n'"
      ]
     },
     "execution_count": 18,
     "metadata": {},
     "output_type": "execute_result"
    }
   ],
   "source": [
    "retriever_tool.invoke(\"cosa devo mettere al campo Mail inoltro per conoscenza?\")"
   ]
  },
  {
   "cell_type": "code",
   "execution_count": 21,
   "id": "07111455",
   "metadata": {},
   "outputs": [],
   "source": [
    "from langgraph.graph import MessagesState\n",
    "from langchain.chat_models import init_chat_model\n",
    "\n",
    "response_model = init_chat_model(\n",
    "    \"llama3.2\", model_provider=\"ollama\", base_url=\"host.docker.internal\", temperature=0.0\n",
    ")\n",
    "\n",
    "\n",
    "def generate_query_or_respond(state: MessagesState):\n",
    "    \"\"\"Call the model to generate a response based on the current state. Given\n",
    "    the question, it will decide to retrieve using the retriever tool, or simply respond to the user.\n",
    "    \"\"\"\n",
    "    response = response_model.bind_tools([retriever_tool]).invoke(state[\"messages\"])\n",
    "    return {\"messages\": [response]}"
   ]
  },
  {
   "cell_type": "code",
   "execution_count": 22,
   "id": "79228988",
   "metadata": {},
   "outputs": [
    {
     "name": "stdout",
     "output_type": "stream",
     "text": [
      "==================================\u001b[1m Ai Message \u001b[0m==================================\n",
      "Tool Calls:\n",
      "  retrieve_faq (86506d8e-081d-4de6-b2c5-a1494d340295)\n",
      " Call ID: 86506d8e-081d-4de6-b2c5-a1494d340295\n",
      "  Args:\n",
      "    query: a\n"
     ]
    }
   ],
   "source": [
    "input = {\"messages\": [{\"role\": \"user\", \"content\": \"a\"}]}\n",
    "generate_query_or_respond(input)[\"messages\"][-1].pretty_print()"
   ]
  }
 ],
 "metadata": {
  "kernelspec": {
   "display_name": ".venv",
   "language": "python",
   "name": "python3"
  },
  "language_info": {
   "codemirror_mode": {
    "name": "ipython",
    "version": 3
   },
   "file_extension": ".py",
   "mimetype": "text/x-python",
   "name": "python",
   "nbconvert_exporter": "python",
   "pygments_lexer": "ipython3",
   "version": "3.13.3"
  }
 },
 "nbformat": 4,
 "nbformat_minor": 5
}
