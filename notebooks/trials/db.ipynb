{
 "cells": [
  {
   "cell_type": "code",
   "execution_count": null,
   "id": "e2e6a669",
   "metadata": {},
   "outputs": [],
   "source": [
    "from plum_chatbot.configs.settings import Settings\n",
    "\n",
    "settings = Settings()"
   ]
  },
  {
   "cell_type": "code",
   "execution_count": 10,
   "id": "0aab2524",
   "metadata": {},
   "outputs": [],
   "source": [
    "import sqlalchemy as db\n",
    "\n",
    "engine = db.create_engine(settings.POSTGRES_URL)\n",
    "\n",
    "conn = engine.connect()"
   ]
  },
  {
   "cell_type": "code",
   "execution_count": 11,
   "id": "1ad96bbb",
   "metadata": {},
   "outputs": [],
   "source": [
    "engine = db.create_engine(settings.POSTGRES_URL)\n",
    "conn = engine.connect()\n",
    "metadata = db.MetaData()\n",
    "\n",
    "Student = db.Table(\n",
    "    \"Student\",\n",
    "    metadata,\n",
    "    db.Column(\"Id\", db.Integer(), primary_key=True),\n",
    "    db.Column(\"Name\", db.String(255), nullable=False),\n",
    "    db.Column(\"Major\", db.String(255), default=\"Math\"),\n",
    "    db.Column(\"Pass\", db.Boolean(), default=True),\n",
    ")\n",
    "\n",
    "metadata.create_all(engine)"
   ]
  },
  {
   "cell_type": "code",
   "execution_count": 12,
   "id": "4008fbf7",
   "metadata": {},
   "outputs": [],
   "source": [
    "query = Student.select().where(Student.c.Major == \"Math\")"
   ]
  },
  {
   "cell_type": "code",
   "execution_count": null,
   "id": "f5f9bb6b",
   "metadata": {},
   "outputs": [],
   "source": [
    "query = db.insert(Student).values(Id=1, Name=\"Matthew\", Major=\"English\", Pass=True)\n",
    "result = conn.execute(query)"
   ]
  },
  {
   "cell_type": "code",
   "execution_count": 14,
   "id": "554bf460",
   "metadata": {},
   "outputs": [
    {
     "name": "stdout",
     "output_type": "stream",
     "text": [
      "[(1, 'Matthew', 'English', True)]\n"
     ]
    }
   ],
   "source": [
    "output = conn.execute(Student.select()).fetchall()\n",
    "print(output)"
   ]
  },
  {
   "cell_type": "code",
   "execution_count": 1,
   "id": "09fe5227",
   "metadata": {},
   "outputs": [],
   "source": [
    "from plum_chatbot.datasources.postgres_datasource import PostgresDatasource\n",
    "from plum_chatbot.datasources.parameters import PostgresParameters\n",
    "from plum_chatbot.configs.settings import Settings\n",
    "from plum_chatbot.datasources.models.chat_message import ChatMessage\n",
    "from uuid import uuid4\n",
    "\n",
    "settings = Settings()\n",
    "pg = PostgresDatasource(PostgresParameters(postgres_url=settings.POSTGRES_URL))\n",
    "pg.setup()\n",
    "\n",
    "\n",
    "chat_id = uuid4()"
   ]
  },
  {
   "cell_type": "code",
   "execution_count": 2,
   "id": "4b978d48",
   "metadata": {},
   "outputs": [
    {
     "data": {
      "text/plain": [
       "[<plum_chatbot.datasources.models.chat_message.ChatMessage at 0xffff84e801a0>,\n",
       " <plum_chatbot.datasources.models.chat_message.ChatMessage at 0xffff84fa65d0>,\n",
       " <plum_chatbot.datasources.models.chat_message.ChatMessage at 0xffff84fa6710>,\n",
       " <plum_chatbot.datasources.models.chat_message.ChatMessage at 0xffff84dde060>]"
      ]
     },
     "execution_count": 2,
     "metadata": {},
     "output_type": "execute_result"
    }
   ],
   "source": [
    "pg.all(ChatMessage)"
   ]
  },
  {
   "cell_type": "code",
   "execution_count": 4,
   "id": "3adaded2",
   "metadata": {},
   "outputs": [],
   "source": [
    "res = pg.query(\"select * from chat_messages\").all()"
   ]
  },
  {
   "cell_type": "code",
   "execution_count": 3,
   "id": "422493e2",
   "metadata": {},
   "outputs": [
    {
     "data": {
      "text/plain": [
       "[(UUID('feba9745-4b7c-46b8-87b5-1f531795a8d0'), UUID('8b80be69-44be-43f7-8b8c-29e984fb8c3a'), 'What is the capital of France?', 'The capital of France is Paris.', datetime.datetime(2025, 6, 17, 17, 33, 50, 201969), 0),\n",
       " (UUID('3469404d-29be-4223-a8b0-5a2f1aa4b974'), UUID('8b80be69-44be-43f7-8b8c-29e984fb8c3a'), 'What is the capital of France?', 'The capital of France is Paris.', datetime.datetime(2025, 6, 17, 17, 33, 59, 645434), 0),\n",
       " (UUID('4ca2a1f9-20f8-4f58-a36d-423561159ac1'), UUID('8b80be69-44be-43f7-8b8c-29e984fb8c3a'), 'What is the capital of France?', 'The capital of France is Paris.', datetime.datetime(2025, 6, 17, 17, 34, 0, 597914), 0)]"
      ]
     },
     "execution_count": 3,
     "metadata": {},
     "output_type": "execute_result"
    }
   ],
   "source": [
    "pg.query(\"select * from chat_messages where chat_id = :chat_id\", {\"chat_id\": \"8b80be69-44be-43f7-8b8c-29e984fb8c3a\"}).all()"
   ]
  },
  {
   "cell_type": "code",
   "execution_count": 5,
   "id": "ff04a63b",
   "metadata": {},
   "outputs": [],
   "source": [
    "res = [ChatMessage.from_tuple(row) for row in res]"
   ]
  },
  {
   "cell_type": "code",
   "execution_count": 6,
   "id": "1127ee01",
   "metadata": {},
   "outputs": [
    {
     "data": {
      "text/plain": [
       "[<plum_chatbot.datasources.models.chat_message.ChatMessage at 0xffff8d3bba80>,\n",
       " <plum_chatbot.datasources.models.chat_message.ChatMessage at 0xffff84e844d0>,\n",
       " <plum_chatbot.datasources.models.chat_message.ChatMessage at 0xffff84f43790>,\n",
       " <plum_chatbot.datasources.models.chat_message.ChatMessage at 0xffff84f438a0>]"
      ]
     },
     "execution_count": 6,
     "metadata": {},
     "output_type": "execute_result"
    }
   ],
   "source": [
    "res"
   ]
  },
  {
   "cell_type": "code",
   "execution_count": 9,
   "id": "1c589117",
   "metadata": {},
   "outputs": [
    {
     "data": {
      "text/plain": [
       "'The capital of France is Paris.'"
      ]
     },
     "execution_count": 9,
     "metadata": {},
     "output_type": "execute_result"
    }
   ],
   "source": [
    "ChatMessage(id=res[0][0], chat_id=res[0][1], question=res[0][2], answer=res[0][3], timestamp=res[0][4], positive_feedback=res[0][5]).answer"
   ]
  },
  {
   "cell_type": "code",
   "execution_count": 9,
   "id": "9bf51bbf",
   "metadata": {},
   "outputs": [
    {
     "data": {
      "text/plain": [
       "<sqlalchemy.engine.cursor.CursorResult at 0xffff6c1027b0>"
      ]
     },
     "execution_count": 9,
     "metadata": {},
     "output_type": "execute_result"
    }
   ],
   "source": [
    "from sqlalchemy import text\n",
    "\n",
    "\n",
    "pg.session.execute(text(\"select * from chat_messages\"))"
   ]
  },
  {
   "cell_type": "code",
   "execution_count": null,
   "id": "a3c5ba1d",
   "metadata": {},
   "outputs": [],
   "source": []
  }
 ],
 "metadata": {
  "kernelspec": {
   "display_name": ".venv",
   "language": "python",
   "name": "python3"
  },
  "language_info": {
   "codemirror_mode": {
    "name": "ipython",
    "version": 3
   },
   "file_extension": ".py",
   "mimetype": "text/x-python",
   "name": "python",
   "nbconvert_exporter": "python",
   "pygments_lexer": "ipython3",
   "version": "3.13.5"
  }
 },
 "nbformat": 4,
 "nbformat_minor": 5
}
