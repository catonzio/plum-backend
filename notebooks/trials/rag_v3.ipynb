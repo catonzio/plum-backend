{
 "cells": [
  {
   "cell_type": "code",
   "execution_count": null,
   "id": "3389d8bb",
   "metadata": {},
   "outputs": [],
   "source": [
    "from IPython.display import Image, display\n",
    "from langchain.chat_models import init_chat_model\n",
    "from langchain_core.messages import SystemMessage\n",
    "from langchain_core.tools import tool\n",
    "from langchain_ollama import OllamaEmbeddings\n",
    "from langchain_qdrant import QdrantVectorStore\n",
    "from langgraph.checkpoint.memory import MemorySaver\n",
    "from langgraph.graph import END, MessagesState, StateGraph\n",
    "from langgraph.prebuilt import ToolNode, create_react_agent, tools_condition\n",
    "from qdrant_client import QdrantClient\n",
    "\n",
    "from plum_chatbot.configs.settings import Settings"
   ]
  },
  {
   "cell_type": "code",
   "execution_count": 2,
   "id": "f2d3caf3",
   "metadata": {},
   "outputs": [
    {
     "name": "stderr",
     "output_type": "stream",
     "text": [
      "/tmp/ipykernel_4062/2161982073.py:5: UserWarning: Api key is used with an insecure connection.\n",
      "  client = QdrantClient(url=settings.QDRANT_URL, api_key=settings.QDRANT_API_KEY, https=True)\n"
     ]
    }
   ],
   "source": [
    "settings = Settings()\n",
    "\n",
    "embeddings = OllamaEmbeddings(model=\"llama3.2\", base_url=\"host.docker.internal\")\n",
    "\n",
    "client = QdrantClient(\n",
    "    url=settings.QDRANT_URL, api_key=settings.QDRANT_API_KEY, https=True\n",
    ")\n",
    "\n",
    "vector_store = QdrantVectorStore(\n",
    "    client=client,\n",
    "    collection_name=\"FAQ\",\n",
    "    embedding=embeddings,\n",
    ")"
   ]
  },
  {
   "cell_type": "code",
   "execution_count": null,
   "id": "9244fb8a",
   "metadata": {},
   "outputs": [],
   "source": [
    "llm = init_chat_model(\n",
    "    \"llama3.2\",\n",
    "    model_provider=\"ollama\",\n",
    "    base_url=\"host.docker.internal\",\n",
    "    temperature=0.3,\n",
    ")"
   ]
  },
  {
   "cell_type": "code",
   "execution_count": 4,
   "id": "075d2caa",
   "metadata": {},
   "outputs": [],
   "source": [
    "@tool(response_format=\"content_and_artifact\")\n",
    "def retrieve(query: str):\n",
    "    \"\"\"Retrieve information related to a query.\"\"\"\n",
    "    retrieved_docs = vector_store.similarity_search(query, k=2)\n",
    "    serialized = \"\\n\\n\".join(\n",
    "        (f\"Source: {doc.metadata}\\nContent: {doc.page_content}\")\n",
    "        for doc in retrieved_docs\n",
    "    )\n",
    "    return serialized, retrieved_docs\n",
    "\n",
    "\n",
    "tools = ToolNode([retrieve])"
   ]
  },
  {
   "cell_type": "code",
   "execution_count": 5,
   "id": "36c5b122",
   "metadata": {},
   "outputs": [],
   "source": [
    "# # Step 1: Generate an AIMessage that may include a tool-call to be sent.\n",
    "# def query_or_respond(state: MessagesState):\n",
    "#     \"\"\"Generate tool call for retrieval or respond.\"\"\"\n",
    "#     llm_with_tools = llm.bind_tools([retrieve])\n",
    "#     response = llm_with_tools.invoke(state[\"messages\"])\n",
    "#     # MessagesState appends messages to state instead of overwriting\n",
    "#     return {\"messages\": [response]}\n",
    "\n",
    "\n",
    "# # Step 2: Execute the retrieval.\n",
    "# tools = ToolNode([retrieve])\n",
    "\n",
    "\n",
    "# # Step 3: Generate a response using the retrieved content.\n",
    "# def generate(state: MessagesState):\n",
    "#     \"\"\"Generate answer.\"\"\"\n",
    "#     # Get generated ToolMessages\n",
    "#     recent_tool_messages = []\n",
    "#     for message in reversed(state[\"messages\"]):\n",
    "#         if message.type == \"tool\":\n",
    "#             recent_tool_messages.append(message)\n",
    "#         else:\n",
    "#             break\n",
    "#     tool_messages = recent_tool_messages[::-1]\n",
    "\n",
    "#     # Format into prompt\n",
    "#     docs_content = \"\\n\\n\".join(doc.content for doc in tool_messages)\n",
    "#     system_message_content = (\n",
    "#         \"You are an assistant for question-answering tasks. \"\n",
    "#         \"Use the following pieces of retrieved context to answer \"\n",
    "#         \"the question. If you don't know the answer, say that you \"\n",
    "#         \"don't know. Use three sentences maximum and keep the \"\n",
    "#         \"answer concise.\"\n",
    "#         \"\\n\\n\"\n",
    "#         f\"{docs_content}\"\n",
    "#     )\n",
    "#     conversation_messages = [\n",
    "#         message\n",
    "#         for message in state[\"messages\"]\n",
    "#         if message.type in (\"human\", \"system\")\n",
    "#         or (message.type == \"ai\" and not message.tool_calls)\n",
    "#     ]\n",
    "#     prompt = [SystemMessage(system_message_content)] + conversation_messages\n",
    "\n",
    "#     # Run\n",
    "#     response = llm.invoke(prompt)\n",
    "#     return {\"messages\": [response]}"
   ]
  },
  {
   "cell_type": "code",
   "execution_count": 6,
   "id": "88c1b77d",
   "metadata": {},
   "outputs": [],
   "source": [
    "# graph_builder = StateGraph(MessagesState)\n",
    "# graph_builder.add_node(query_or_respond)\n",
    "# graph_builder.add_node(tools)\n",
    "# graph_builder.add_node(generate)\n",
    "\n",
    "# graph_builder.set_entry_point(\"query_or_respond\")\n",
    "# graph_builder.add_conditional_edges(\n",
    "#     \"query_or_respond\",\n",
    "#     tools_condition,\n",
    "#     {END: END, \"tools\": \"tools\"},\n",
    "# )\n",
    "# graph_builder.add_edge(\"tools\", \"generate\")\n",
    "# graph_builder.add_edge(\"generate\", END)\n",
    "\n",
    "# graph = graph_builder.compile()"
   ]
  },
  {
   "cell_type": "code",
   "execution_count": 7,
   "id": "8b1df422",
   "metadata": {},
   "outputs": [],
   "source": [
    "memory = MemorySaver()\n",
    "# graph = graph_builder.compile(checkpointer=memory)"
   ]
  },
  {
   "cell_type": "code",
   "execution_count": 8,
   "id": "c12f9a99",
   "metadata": {},
   "outputs": [],
   "source": [
    "agent_executor = create_react_agent(\n",
    "    llm,\n",
    "    tools,\n",
    "    checkpointer=memory,\n",
    "    prompt=(\n",
    "        \"You are an assistant for helping users using the Plum software, therefore you should always refer to the official documentation when providing answers.\"\n",
    "        \"You will be provided with a question and you may need to retrieve information from the documentation.\"\n",
    "        # \"Use the following pieces of retrieved context to answer the question.\"\n",
    "        \"If you don't know the answer, say that you don't know.\"\n",
    "        \"Use three sentences maximum and keep the answer concise.\"\n",
    "        \"If you can answer directly without retrieving, do so.\"\n",
    "        \"If you need to retrieve, use the tools provided to you.\"\n",
    "        \"If you retrieve, use the retrieved content to answer the question.\"\n",
    "        \"The software is for italian users, so you should always answer in italian, unless the user specifies otherwise.\"\n",
    "        \"All the retrieved content will be in italian.\"\n",
    "    ),\n",
    ")"
   ]
  },
  {
   "cell_type": "code",
   "execution_count": 9,
   "id": "fceff17d",
   "metadata": {},
   "outputs": [
    {
     "data": {
      "image/png": "[encoded data removed]",
      "text/plain": [
       "<IPython.core.display.Image object>"
      ]
     },
     "metadata": {},
     "output_type": "display_data"
    }
   ],
   "source": [
    "display(Image(agent_executor.get_graph().draw_mermaid_png()))"
   ]
  },
  {
   "cell_type": "code",
   "execution_count": 10,
   "id": "581c760e",
   "metadata": {},
   "outputs": [],
   "source": [
    "# display(Image(graph.get_graph().draw_mermaid_png()))"
   ]
  },
  {
   "cell_type": "code",
   "execution_count": 14,
   "id": "0b789725",
   "metadata": {},
   "outputs": [
    {
     "name": "stdout",
     "output_type": "stream",
     "text": [
      "================================\u001b[1m Human Message \u001b[0m=================================\n",
      "\n",
      "si, consigliami un sito\n",
      "==================================\u001b[1m Ai Message \u001b[0m==================================\n",
      "Tool Calls:\n",
      "  retrieve (470fcdec-b266-4b46-96eb-affac08f468b)\n",
      " Call ID: 470fcdec-b266-4b46-96eb-affac08f468b\n",
      "  Args:\n",
      "    query: siti di conoscenza per utenti italiani\n",
      "=================================\u001b[1m Tool Message \u001b[0m=================================\n",
      "Name: retrieve\n",
      "\n",
      "Source: {'_id': 5, '_collection_name': 'FAQ'}\n",
      "Content: 1. COME CONFIGUARE LE EMAIL E LA PEC\n",
      "All’interno del portale è possibile configurare tutti gli indirizzi email e Pec dello\n",
      "Studio  e  decidere,  a  seconda  delle  esigenze,  da  quale  indirizzo  inviare  la\n",
      "corrispondenza.  \n",
      "Dal menu principale cliccare su Configurazioni  Parametri Email \n",
      "Premere ora il simbolo \n",
      "  per inserire i parametri dell’email \n",
      "Compilare i campi della finestra :\n",
      "- Descrizione  (inserire  il  riferimento  dell’email,  es:  Mario  oppure  Solleciti\n",
      "oppure amministrazione, ecc.)\n",
      "- Tipo  (inserire per le email ‘ORDINARIA’ e per la pec ‘PEC’)\n",
      "- Indirizzo (riportare  l’indirizzo  dell’email  o  della  pec,  es:\n",
      "ammistrazionerossi@gmail.com oppure info@studioverdi.it )\n",
      "- Host (selezionare dall’elenco il provider di posta elettronica. Se non presente\n",
      "nella lista contattare l’assistenza PLUM).\n",
      "- Username (generalmente l’indirizzo email già inserito nel campo ‘Indirizzo’).\n",
      "- Password (inserire la password delle propria email o pec).\n",
      "- Mail inoltro per conoscenza  (è possibile inserire un indirizzo a cui inoltrare  la\n",
      "copia inviata ai destinatari). Tale campo è facoltativo e deve essere compilato\n",
      "solo  quando  viene  inserita  la  spunta  del  campo  “su  servizio  Turbo  SMTP\n",
      "desidero ricevere la copia email per conoscenza”.\n",
      "- Su  questo  account  intendo  utilizzare  il  servizio  turboSMTP (impostare  la\n",
      "spunta quando si vuole utilizzare il servizio TurboSMTP in alternativa all’email\n",
      "propria).  E’ importante sapere che i provider non garantiscono la consegna\n",
      "massiva delle email. Il servizio TurboSMTP invece garantisce una percentuale\n",
      "di consegna superiore al 99,7%  delle email inviate, oltre a fornire dettagli su\n",
      "data ed ora di invio o sugli esiti negativi. \n",
      "- Su servizio turboSMTP desidero ricevere copia email per conoscenza  Il campo\n",
      "deve essere attivato per ricevere le copie delle email su un altro indirizzo che\n",
      "deve essere inserito nel campo ‘Mail inoltro per conoscenza’\n",
      "\n",
      "\n",
      "Source: {'_id': 1, '_collection_name': 'FAQ'}\n",
      "Content: 2. COME MODIFICA I DATI DEL PROFILO\n",
      "Dalla pagina iniziale premere il pulsante Profilo\n",
      "La procedura visualizza quindi la finestra nella quale l’amministratore può inserire\n",
      "e/o modificare i propri dati\n",
      " E’ importante terminare l’operazione di inserimento/modifica premendo il pulsante\n",
      "salva.\n",
      "\n",
      "==================================\u001b[1m Ai Message \u001b[0m==================================\n",
      "\n",
      "Per trovare un sito di conoscenza per utenti italiani, posso suggerirti di visitare il sito ufficiale del provider Plum, dove troverai una sezione dedicata alle FAQ (Domande frequenti) con risposte a molte delle domande più comuni.\n"
     ]
    }
   ],
   "source": [
    "config = {\"configurable\": {\"thread_id\": \"def234555\"}}\n",
    "\n",
    "input_message = \"si, consigliami un sito\"\n",
    "\n",
    "for event in agent_executor.stream(\n",
    "    {\"messages\": [{\"role\": \"user\", \"content\": input_message}]},\n",
    "    stream_mode=\"values\",\n",
    "    config=config,\n",
    "):\n",
    "    event[\"messages\"][-1].pretty_print()"
   ]
  }
 ],
 "metadata": {
  "kernelspec": {
   "display_name": ".venv",
   "language": "python",
   "name": "python3"
  },
  "language_info": {
   "codemirror_mode": {
    "name": "ipython",
    "version": 3
   },
   "file_extension": ".py",
   "mimetype": "text/x-python",
   "name": "python",
   "nbconvert_exporter": "python",
   "pygments_lexer": "ipython3",
   "version": "3.13.5"
  }
 },
 "nbformat": 4,
 "nbformat_minor": 5
}
