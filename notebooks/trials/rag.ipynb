{
 "cells": [
  {
   "cell_type": "code",
   "execution_count": 12,
   "id": "b44644ff",
   "metadata": {},
   "outputs": [],
   "source": [
    "from langchain_ollama import OllamaEmbeddings\n",
    "\n",
    "embeddings = OllamaEmbeddings(model=\"llama3.2\", base_url=\"host.docker.internal\")"
   ]
  },
  {
   "cell_type": "code",
   "execution_count": 13,
   "id": "62e090d5",
   "metadata": {},
   "outputs": [
    {
     "name": "stderr",
     "output_type": "stream",
     "text": [
      "/tmp/ipykernel_40317/340393869.py:8: UserWarning: Api key is used with an insecure connection.\n",
      "  client = QdrantClient(url=settings.QDRANT_URL, api_key=settings.QDRANT_API_KEY)\n"
     ]
    }
   ],
   "source": [
    "from langchain_qdrant import QdrantVectorStore\n",
    "from qdrant_client import QdrantClient\n",
    "\n",
    "from plum_chatbot.configs.settings import Settings\n",
    "\n",
    "settings = Settings()\n",
    "\n",
    "client = QdrantClient(url=settings.QDRANT_URL, api_key=settings.QDRANT_API_KEY)\n",
    "\n",
    "vector_store = QdrantVectorStore(\n",
    "    client=client,\n",
    "    collection_name=\"FAQ\",\n",
    "    embedding=embeddings,\n",
    ")"
   ]
  },
  {
   "cell_type": "code",
   "execution_count": 14,
   "id": "d5c75393",
   "metadata": {},
   "outputs": [
    {
     "name": "stderr",
     "output_type": "stream",
     "text": [
      "/plum_chatbot/.venv/lib/python3.13/site-packages/langsmith/client.py:272: LangSmithMissingAPIKeyWarning: API key must be provided when using hosted LangSmith API\n",
      "  warnings.warn(\n"
     ]
    }
   ],
   "source": [
    "from langchain import hub\n",
    "\n",
    "prompt = hub.pull(\"rlm/rag-prompt\")"
   ]
  },
  {
   "cell_type": "code",
   "execution_count": 15,
   "id": "233c8f7b",
   "metadata": {},
   "outputs": [],
   "source": [
    "from langchain.chat_models import init_chat_model\n",
    "\n",
    "llm = init_chat_model(\"llama3.2\", model_provider=\"ollama\", base_url=\"host.docker.internal\")"
   ]
  },
  {
   "cell_type": "code",
   "execution_count": 24,
   "id": "29c9eef6",
   "metadata": {},
   "outputs": [
    {
     "data": {
      "text/plain": [
       "[Document(metadata={'_id': 1, '_collection_name': 'FAQ'}, page_content='2. COME MODIFICA I DATI DEL PROFILO\\nDalla pagina iniziale premere il pulsante Profilo\\nLa procedura visualizza quindi la finestra nella quale l’amministratore può inserire\\ne/o modificare i propri dati\\n E’ importante terminare l’operazione di inserimento/modifica premendo il pulsante\\nsalva.\\n'),\n",
       " Document(metadata={'_id': 5, '_collection_name': 'FAQ'}, page_content='1. COME CONFIGUARE LE EMAIL E LA PEC\\nAll’interno del portale è possibile configurare tutti gli indirizzi email e Pec dello\\nStudio  e  decidere,  a  seconda  delle  esigenze,  da  quale  indirizzo  inviare  la\\ncorrispondenza.  \\nDal menu principale cliccare su Configurazioni \\uf0e0 Parametri Email \\nPremere ora il simbolo \\n  per inserire i parametri dell’email \\nCompilare i campi della finestra :\\n- Descrizione  (inserire  il  riferimento  dell’email,  es:  Mario  oppure  Solleciti\\noppure amministrazione, ecc.)\\n- Tipo  (inserire per le email ‘ORDINARIA’ e per la pec ‘PEC’)\\n- Indirizzo (riportare  l’indirizzo  dell’email  o  della  pec,  es:\\nammistrazionerossi@gmail.com oppure info@studioverdi.it )\\n- Host (selezionare dall’elenco il provider di posta elettronica. Se non presente\\nnella lista contattare l’assistenza PLUM).\\n- Username (generalmente l’indirizzo email già inserito nel campo ‘Indirizzo’).\\n- Password (inserire la password delle propria email o pec).\\n- Mail inoltro per conoscenza  (è possibile inserire un indirizzo a cui inoltrare  la\\ncopia inviata ai destinatari). Tale campo è facoltativo e deve essere compilato\\nsolo  quando  viene  inserita  la  spunta  del  campo  “su  servizio  Turbo  SMTP\\ndesidero ricevere la copia email per conoscenza”.\\n- Su  questo  account  intendo  utilizzare  il  servizio  turboSMTP (impostare  la\\nspunta quando si vuole utilizzare il servizio TurboSMTP in alternativa all’email\\npropria).  E’ importante sapere che i provider non garantiscono la consegna\\nmassiva delle email. Il servizio TurboSMTP invece garantisce una percentuale\\ndi consegna superiore al 99,7%  delle email inviate, oltre a fornire dettagli su\\ndata ed ora di invio o sugli esiti negativi. \\n- Su servizio turboSMTP desidero ricevere copia email per conoscenza  Il campo\\ndeve essere attivato per ricevere le copie delle email su un altro indirizzo che\\ndeve essere inserito nel campo ‘Mail inoltro per conoscenza’\\n')]"
      ]
     },
     "execution_count": 24,
     "metadata": {},
     "output_type": "execute_result"
    }
   ],
   "source": [
    "# vector_store.similarity_search(\"dati del profilo\")\n",
    "await vector_store.asearch(\"dati del profilo\", search_type=\"mmr\", k=2)"
   ]
  },
  {
   "cell_type": "code",
   "execution_count": 25,
   "id": "7bfaaf88",
   "metadata": {},
   "outputs": [],
   "source": [
    "from langchain_core.documents import Document\n",
    "from langgraph.graph import START, StateGraph\n",
    "from typing_extensions import TypedDict\n",
    "\n",
    "# Define state for application\n",
    "class State(TypedDict):\n",
    "    question: str\n",
    "    context: list[Document]\n",
    "    answer: str\n",
    "\n",
    "\n",
    "# Define application steps\n",
    "async def retrieve(state: State):\n",
    "    retrieved_docs = await vector_store.amax_marginal_relevance_search(state[\"question\"], k=2)\n",
    "    return {\"context\": retrieved_docs}\n",
    "\n",
    "\n",
    "async def generate(state: State):\n",
    "    docs_content = \"\\n\\n\".join(doc.page_content for doc in state[\"context\"])\n",
    "    messages = await prompt.ainvoke({\"question\": state[\"question\"], \"context\": docs_content})\n",
    "    response = await llm.ainvoke(messages)\n",
    "    return {\"answer\": response.content}\n",
    "\n",
    "\n",
    "# Compile application and test\n",
    "graph_builder = StateGraph(State).add_sequence([retrieve, generate])\n",
    "graph_builder.add_edge(START, \"retrieve\")\n",
    "graph = graph_builder.compile()"
   ]
  },
  {
   "cell_type": "code",
   "execution_count": 28,
   "id": "fa47e3f0",
   "metadata": {},
   "outputs": [
    {
     "data": {
      "text/plain": [
       "{'question': 'come modificare i dati del profilo?',\n",
       " 'context': [Document(metadata={'_id': 1, '_collection_name': 'FAQ'}, page_content='2. COME MODIFICA I DATI DEL PROFILO\\nDalla pagina iniziale premere il pulsante Profilo\\nLa procedura visualizza quindi la finestra nella quale l’amministratore può inserire\\ne/o modificare i propri dati\\n E’ importante terminare l’operazione di inserimento/modifica premendo il pulsante\\nsalva.\\n'),\n",
       "  Document(metadata={'_id': 5, '_collection_name': 'FAQ'}, page_content='1. COME CONFIGUARE LE EMAIL E LA PEC\\nAll’interno del portale è possibile configurare tutti gli indirizzi email e Pec dello\\nStudio  e  decidere,  a  seconda  delle  esigenze,  da  quale  indirizzo  inviare  la\\ncorrispondenza.  \\nDal menu principale cliccare su Configurazioni \\uf0e0 Parametri Email \\nPremere ora il simbolo \\n  per inserire i parametri dell’email \\nCompilare i campi della finestra :\\n- Descrizione  (inserire  il  riferimento  dell’email,  es:  Mario  oppure  Solleciti\\noppure amministrazione, ecc.)\\n- Tipo  (inserire per le email ‘ORDINARIA’ e per la pec ‘PEC’)\\n- Indirizzo (riportare  l’indirizzo  dell’email  o  della  pec,  es:\\nammistrazionerossi@gmail.com oppure info@studioverdi.it )\\n- Host (selezionare dall’elenco il provider di posta elettronica. Se non presente\\nnella lista contattare l’assistenza PLUM).\\n- Username (generalmente l’indirizzo email già inserito nel campo ‘Indirizzo’).\\n- Password (inserire la password delle propria email o pec).\\n- Mail inoltro per conoscenza  (è possibile inserire un indirizzo a cui inoltrare  la\\ncopia inviata ai destinatari). Tale campo è facoltativo e deve essere compilato\\nsolo  quando  viene  inserita  la  spunta  del  campo  “su  servizio  Turbo  SMTP\\ndesidero ricevere la copia email per conoscenza”.\\n- Su  questo  account  intendo  utilizzare  il  servizio  turboSMTP (impostare  la\\nspunta quando si vuole utilizzare il servizio TurboSMTP in alternativa all’email\\npropria).  E’ importante sapere che i provider non garantiscono la consegna\\nmassiva delle email. Il servizio TurboSMTP invece garantisce una percentuale\\ndi consegna superiore al 99,7%  delle email inviate, oltre a fornire dettagli su\\ndata ed ora di invio o sugli esiti negativi. \\n- Su servizio turboSMTP desidero ricevere copia email per conoscenza  Il campo\\ndeve essere attivato per ricevere le copie delle email su un altro indirizzo che\\ndeve essere inserito nel campo ‘Mail inoltro per conoscenza’\\n')],\n",
       " 'answer': 'Non sono in grado di fornire una risposta al tuo questione \"come modificare i dati del profilo\". Tuttavia, posso suggerirti di seguire le istruzioni riportate nella sezione \"COME MODIFICA I DATI DEL PROFILO\" del contesto fornito.'}"
      ]
     },
     "execution_count": 28,
     "metadata": {},
     "output_type": "execute_result"
    }
   ],
   "source": [
    "response = await graph.ainvoke({\"question\": \"come modificare i dati del profilo?\"})\n",
    "response"
   ]
  },
  {
   "cell_type": "code",
   "execution_count": 44,
   "id": "c9b32316",
   "metadata": {},
   "outputs": [
    {
     "data": {
      "text/html": [
       "<div>\n",
       "<style scoped>\n",
       "    .dataframe tbody tr th:only-of-type {\n",
       "        vertical-align: middle;\n",
       "    }\n",
       "\n",
       "    .dataframe tbody tr th {\n",
       "        vertical-align: top;\n",
       "    }\n",
       "\n",
       "    .dataframe thead th {\n",
       "        text-align: right;\n",
       "    }\n",
       "</style>\n",
       "<table border=\"1\" class=\"dataframe\">\n",
       "  <thead>\n",
       "    <tr style=\"text-align: right;\">\n",
       "      <th></th>\n",
       "      <th>question</th>\n",
       "      <th>context</th>\n",
       "      <th>answer</th>\n",
       "    </tr>\n",
       "  </thead>\n",
       "  <tbody>\n",
       "    <tr>\n",
       "      <th>0</th>\n",
       "      <td>come configurare la pec?</td>\n",
       "      <td>page_content='7. COME IMPOSTARE I DATI PER LA ...</td>\n",
       "      <td>Non ho informazioni sulla configurazione della...</td>\n",
       "    </tr>\n",
       "    <tr>\n",
       "      <th>1</th>\n",
       "      <td>come configurare la pec?</td>\n",
       "      <td>page_content='3. COME INSERIRE LE COORDINATE D...</td>\n",
       "      <td>Non ho informazioni sulla configurazione della...</td>\n",
       "    </tr>\n",
       "    <tr>\n",
       "      <th>2</th>\n",
       "      <td>come configurare la pec?</td>\n",
       "      <td>page_content='2. COME MODIFICA I DATI DEL PROF...</td>\n",
       "      <td>Non ho informazioni sulla configurazione della...</td>\n",
       "    </tr>\n",
       "    <tr>\n",
       "      <th>3</th>\n",
       "      <td>come configurare la pec?</td>\n",
       "      <td>page_content='1. COME CONFIGUARE LE EMAIL E LA...</td>\n",
       "      <td>Non ho informazioni sulla configurazione della...</td>\n",
       "    </tr>\n",
       "  </tbody>\n",
       "</table>\n",
       "</div>"
      ],
      "text/plain": [
       "                   question  \\\n",
       "0  come configurare la pec?   \n",
       "1  come configurare la pec?   \n",
       "2  come configurare la pec?   \n",
       "3  come configurare la pec?   \n",
       "\n",
       "                                             context  \\\n",
       "0  page_content='7. COME IMPOSTARE I DATI PER LA ...   \n",
       "1  page_content='3. COME INSERIRE LE COORDINATE D...   \n",
       "2  page_content='2. COME MODIFICA I DATI DEL PROF...   \n",
       "3  page_content='1. COME CONFIGUARE LE EMAIL E LA...   \n",
       "\n",
       "                                              answer  \n",
       "0  Non ho informazioni sulla configurazione della...  \n",
       "1  Non ho informazioni sulla configurazione della...  \n",
       "2  Non ho informazioni sulla configurazione della...  \n",
       "3  Non ho informazioni sulla configurazione della...  "
      ]
     },
     "execution_count": 44,
     "metadata": {},
     "output_type": "execute_result"
    }
   ],
   "source": [
    "import pandas as pd\n",
    "\n",
    "pd.DataFrame(response)"
   ]
  },
  {
   "cell_type": "code",
   "execution_count": 42,
   "id": "d612bef9",
   "metadata": {},
   "outputs": [
    {
     "name": "stdout",
     "output_type": "stream",
     "text": [
      "Non ho informazioni sulla configurazione della PEC (Poste Elettroniche Certified). Non conosco i dettagli esatti di come configrarla. Cerca i manuali o il supporto tecnico di PLUM.\n"
     ]
    }
   ],
   "source": [
    "print(response['answer'])"
   ]
  },
  {
   "cell_type": "code",
   "execution_count": 33,
   "id": "740b0858",
   "metadata": {},
   "outputs": [],
   "source": [
    "from langchain.tools.retriever import create_retriever_tool\n",
    "\n",
    "retriever_tool = create_retriever_tool(\n",
    "    vector_store.as_retriever(),\n",
    "    \"retrieve_faq\",\n",
    "    \"Search and return information about frequently asked questions.\",\n",
    ")"
   ]
  },
  {
   "cell_type": "code",
   "execution_count": 34,
   "id": "3e72a699",
   "metadata": {},
   "outputs": [
    {
     "data": {
      "text/plain": [
       "'2. COME MODIFICA I DATI DEL PROFILO\\nDalla pagina iniziale premere il pulsante Profilo\\nLa procedura visualizza quindi la finestra nella quale l’amministratore può inserire\\ne/o modificare i propri dati\\n E’ importante terminare l’operazione di inserimento/modifica premendo il pulsante\\nsalva.\\n\\n\\n1. COME CONFIGUARE LE EMAIL E LA PEC\\nAll’interno del portale è possibile configurare tutti gli indirizzi email e Pec dello\\nStudio  e  decidere,  a  seconda  delle  esigenze,  da  quale  indirizzo  inviare  la\\ncorrispondenza.  \\nDal menu principale cliccare su Configurazioni \\uf0e0 Parametri Email \\nPremere ora il simbolo \\n  per inserire i parametri dell’email \\nCompilare i campi della finestra :\\n- Descrizione  (inserire  il  riferimento  dell’email,  es:  Mario  oppure  Solleciti\\noppure amministrazione, ecc.)\\n- Tipo  (inserire per le email ‘ORDINARIA’ e per la pec ‘PEC’)\\n- Indirizzo (riportare  l’indirizzo  dell’email  o  della  pec,  es:\\nammistrazionerossi@gmail.com oppure info@studioverdi.it )\\n- Host (selezionare dall’elenco il provider di posta elettronica. Se non presente\\nnella lista contattare l’assistenza PLUM).\\n- Username (generalmente l’indirizzo email già inserito nel campo ‘Indirizzo’).\\n- Password (inserire la password delle propria email o pec).\\n- Mail inoltro per conoscenza  (è possibile inserire un indirizzo a cui inoltrare  la\\ncopia inviata ai destinatari). Tale campo è facoltativo e deve essere compilato\\nsolo  quando  viene  inserita  la  spunta  del  campo  “su  servizio  Turbo  SMTP\\ndesidero ricevere la copia email per conoscenza”.\\n- Su  questo  account  intendo  utilizzare  il  servizio  turboSMTP (impostare  la\\nspunta quando si vuole utilizzare il servizio TurboSMTP in alternativa all’email\\npropria).  E’ importante sapere che i provider non garantiscono la consegna\\nmassiva delle email. Il servizio TurboSMTP invece garantisce una percentuale\\ndi consegna superiore al 99,7%  delle email inviate, oltre a fornire dettagli su\\ndata ed ora di invio o sugli esiti negativi. \\n- Su servizio turboSMTP desidero ricevere copia email per conoscenza  Il campo\\ndeve essere attivato per ricevere le copie delle email su un altro indirizzo che\\ndeve essere inserito nel campo ‘Mail inoltro per conoscenza’\\n\\n\\n3. COME INSERIRE LE COORDINATE DELLE ETICHETTE\\nLa piattaforma prevede la possibilità di stampare le etichette buste con i dati\\ndel mittente o  del destinatario. Prima di procedere alla stampa è possibile inserire\\nle coordinate delle etichette sono i diversi formati:  \\n- 1 Pista  (tipo Dymo)\\n- 2 Pista \\n- 3 Pista \\nLe piste rappresentano il numero di etichette affiancate all’altra, quindi se si utilizza\\nla  Dymo  si  deve  indicare  1  pista.  L’inserimento  delle  coordinate  può  essere\\neffettuato richiamando la finestra dal menu Configurazioni \\uf0e0 Parametri Etichette  \\nLa  procedura  visualizza  quindi  la  finestra  nella  quale  è  possibile  inserire  le\\ncoordinate.  E’  importante  premere  sul  simbolo  del  \\n  per  memorizzare  le\\ncoordinate.\\n\\n\\n7. COME IMPOSTARE I DATI PER LA SPEDIZIONE\\nLa piattaforma PLUM consente di generare e stampare documenti di qualsiasi\\ntipo (avvisi, mav, bollettini freccia, pagoPa, estratti conto, solleciti, ecc.) e di inviarli\\nin  modalità  differenti  (email,  pec,  posta  ordinaria,  raccomandata,  ecc.).  I  dati\\nanagrafici e contabili vengono trasmessi dal portale “Lemon” attraverso il pulsante\\nPLUM situato all’interno delle diverse finestre (avvisi, bolletini, mav, solleciti, ecc.). \\nL’utente quando accede all’interno di PLUM si trova nella pagina SPEDIZIONI\\nnella quale sono visibili i destinatari con i documenti allegati trasmessi da Lemon \\nLa bolla contiene  l’intero  elenco  dei  destinatari  con  i  documenti di pagamento.\\nPremendo sul simbolo della cartella  \\n  è possibile visualizzare il contenuto della\\nbolla. \\nLa pagina n. 1 di 3 visualizza il campo CONTENUTO  che deve essere compilato per\\nconoscere  dall’esterno  il  contento  della  spedizione  e  per  enza  e  per  rricercare\\nconrappresenta il contenuto \\n L’utente trova preimpostata la tipologia del documento \\n spedizioni sono indicate con\\nL’utente deve quindi compilare i campi e selezionare il mittente predefinito situato\\nnella parte inferiore della finestra. \\nE’ importante sapere che in fase di invio della corrispondenza i dati del mittente\\nverranno impostati con quelli del mittente predefinito tuttavia potranno comunque\\nessere variati prima  dell’invio della spedizione.\\n'"
      ]
     },
     "execution_count": 34,
     "metadata": {},
     "output_type": "execute_result"
    }
   ],
   "source": [
    "retriever_tool.invoke(\"dati del profilo\")"
   ]
  }
 ],
 "metadata": {
  "kernelspec": {
   "display_name": ".venv",
   "language": "python",
   "name": "python3"
  },
  "language_info": {
   "codemirror_mode": {
    "name": "ipython",
    "version": 3
   },
   "file_extension": ".py",
   "mimetype": "text/x-python",
   "name": "python",
   "nbconvert_exporter": "python",
   "pygments_lexer": "ipython3",
   "version": "3.13.3"
  }
 },
 "nbformat": 4,
 "nbformat_minor": 5
}
