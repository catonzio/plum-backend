{
 "cells": [
  {
   "cell_type": "code",
   "execution_count": 2,
   "id": "0e75ac34",
   "metadata": {},
   "outputs": [],
   "source": [
    "import logging\n",
    "from uuid import uuid4\n",
    "\n",
    "import pandas as pd\n",
    "from tqdm import tqdm\n",
    "from langchain_community.document_loaders import PyPDFLoader\n",
    "from plum_chatbot.agents.agents import invoke_chatbot\n",
    "from plum_chatbot.datasources.qdrant_datasource import QdrantDatasource\n",
    "from plum_chatbot.di_containers.datasources_containers import Container, container\n",
    "from plum_chatbot.schemas.schema import ChatMessage, UserInput\n",
    "from pathlib import Path\n",
    "from langchain.chat_models import init_chat_model"
   ]
  },
  {
   "cell_type": "code",
   "execution_count": 3,
   "id": "f5d1947d",
   "metadata": {},
   "outputs": [],
   "source": [
    "logger = logging.getLogger(__name__)\n",
    "agent_id = \"rag\"\n",
    "n_questions = 20"
   ]
  },
  {
   "cell_type": "code",
   "execution_count": 4,
   "id": "289dd329",
   "metadata": {},
   "outputs": [],
   "source": [
    "loader = PyPDFLoader(Path(\"../data/pdfs/pdf24_merged.pdf\"))\n",
    "content = \"\"\n",
    "async for page in loader.alazy_load():\n",
    "    content += page.page_content + \"\\n\""
   ]
  },
  {
   "cell_type": "code",
   "execution_count": 5,
   "id": "dbc84638",
   "metadata": {},
   "outputs": [],
   "source": [
    "llm = init_chat_model(\n",
    "    \"llama3.2\",  # qwen3:8b\n",
    "    model_provider=\"ollama\",\n",
    "    base_url=\"host.docker.internal\",\n",
    "    temperature=0.5,\n",
    ")"
   ]
  },
  {
   "cell_type": "code",
   "execution_count": 6,
   "id": "e11528bf",
   "metadata": {},
   "outputs": [
    {
     "name": "stderr",
     "output_type": "stream",
     "text": [
      "/plum_chatbot/src/plum_chatbot/datasources/qdrant_datasource.py:39: UserWarning: Api key is used with an insecure connection.\n",
      "  self.client = QdrantClient(\n"
     ]
    }
   ],
   "source": [
    "container.init_resources()\n",
    "for k, v in Container.providers.items():\n",
    "    provider = v()\n",
    "    if isinstance(provider, QdrantDatasource):\n",
    "        provider.setup()\n",
    "    logger.info(f\"Dependency {k} initialized with {v}\")"
   ]
  },
  {
   "cell_type": "code",
   "execution_count": 8,
   "id": "23f40673",
   "metadata": {},
   "outputs": [],
   "source": [
    "golden_set = pd.read_csv(\"data/generated_golden_set.csv\")"
   ]
  },
  {
   "cell_type": "code",
   "execution_count": 9,
   "id": "2c48ed57",
   "metadata": {},
   "outputs": [
    {
     "name": "stderr",
     "output_type": "stream",
     "text": [
      "100%|██████████| 19/19 [01:09<00:00,  3.66s/it]\n"
     ]
    }
   ],
   "source": [
    "answers = []\n",
    "\n",
    "for q in tqdm(golden_set[\"question\"]):\n",
    "    # print(q)\n",
    "    user_input: UserInput = UserInput(message=q, thread_id=str(uuid4()))\n",
    "    answer: ChatMessage = await invoke_chatbot(user_input, agent_id)\n",
    "    answers.append(answer.content)\n",
    "    # print(answer.content)\n",
    "    # print()\n",
    "    # print()"
   ]
  },
  {
   "cell_type": "code",
   "execution_count": 10,
   "id": "acf733a6",
   "metadata": {},
   "outputs": [],
   "source": [
    "golden_set[\"answers\"] = answers\n",
    "golden_set.to_csv(\"data/generated_golden_set_with_answers.csv\", index=False)"
   ]
  },
  {
   "cell_type": "code",
   "execution_count": null,
   "id": "e1b96ad5",
   "metadata": {},
   "outputs": [],
   "source": []
  }
 ],
 "metadata": {
  "kernelspec": {
   "display_name": ".venv",
   "language": "python",
   "name": "python3"
  },
  "language_info": {
   "codemirror_mode": {
    "name": "ipython",
    "version": 3
   },
   "file_extension": ".py",
   "mimetype": "text/x-python",
   "name": "python",
   "nbconvert_exporter": "python",
   "pygments_lexer": "ipython3",
   "version": "3.13.5"
  }
 },
 "nbformat": 4,
 "nbformat_minor": 5
}
